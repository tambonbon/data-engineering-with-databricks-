{
 "cells": [
  {
   "cell_type": "markdown",
   "metadata": {
    "application/vnd.databricks.v1+cell": {
     "cellMetadata": {},
     "inputWidgets": {},
     "nuid": "65994741-056c-4266-8613-017b54a0635f",
     "showTitle": false,
     "title": ""
    }
   },
   "source": [
    "\n",
    "<div style=\"text-align: center; line-height: 0; padding-top: 9px;\">\n",
    "  <img src=\"https://databricks.com/wp-content/uploads/2018/03/db-academy-rgb-1200px.png\" alt=\"Databricks Learning\">\n",
    "</div>\n"
   ]
  },
  {
   "cell_type": "markdown",
   "metadata": {
    "application/vnd.databricks.v1+cell": {
     "cellMetadata": {},
     "inputWidgets": {},
     "nuid": "5d2011d5-2ebe-488d-a47f-f53ce3ccd62a",
     "showTitle": false,
     "title": ""
    }
   },
   "source": [
    "\n",
    "\n",
    "# Extracting Data Directly From Files with Spark SQL\n",
    "\n",
    "In this notebook, you'll learn to extract data directly from files using Spark SQL on Databricks.\n",
    "\n",
    "A number of file formats support this option, but it is most useful for self-describing data formats (such as Parquet and JSON).\n",
    "\n",
    "## Learning Objectives\n",
    "By the end of this lesson, you should be able to:\n",
    "- Use Spark SQL to directly query data files\n",
    "- Layer views and CTEs to make referencing data files easier\n",
    "- Leverage **`text`** and **`binaryFile`** methods to review raw file contents"
   ]
  },
  {
   "cell_type": "markdown",
   "metadata": {
    "application/vnd.databricks.v1+cell": {
     "cellMetadata": {},
     "inputWidgets": {},
     "nuid": "dec128c7-a96a-4742-a679-1129402069c8",
     "showTitle": false,
     "title": ""
    }
   },
   "source": [
    "\n",
    "\n",
    "## Run Setup\n",
    "\n",
    "The setup script will create the data and declare necessary values for the rest of this notebook to execute."
   ]
  },
  {
   "cell_type": "code",
   "execution_count": 0,
   "metadata": {
    "application/vnd.databricks.v1+cell": {
     "cellMetadata": {
      "byteLimit": 2048000,
      "rowLimit": 10000
     },
     "inputWidgets": {},
     "nuid": "530b7fe4-6ffc-4f24-b1bc-0f2e6aeef547",
     "showTitle": false,
     "title": ""
    }
   },
   "outputs": [],
   "source": [
    "%run ./Includes/Classroom-Setup-02.1"
   ]
  },
  {
   "cell_type": "markdown",
   "metadata": {
    "application/vnd.databricks.v1+cell": {
     "cellMetadata": {},
     "inputWidgets": {},
     "nuid": "c616d242-569d-4a55-9551-b908aab16e95",
     "showTitle": false,
     "title": ""
    }
   },
   "source": [
    "\n",
    "\n",
    "## Data Overview\n",
    "\n",
    "In this example, we'll work with a sample of raw Kafka data written as JSON files. \n",
    "\n",
    "Each file contains all records consumed during a 5-second interval, stored with the full Kafka schema as a multiple-record JSON file.\n",
    "\n",
    "| field | type | description |\n",
    "| --- | --- | --- |\n",
    "| key | BINARY | The **`user_id`** field is used as the key; this is a unique alphanumeric field that corresponds to session/cookie information |\n",
    "| value | BINARY | This is the full data payload (to be discussed later), sent as JSON |\n",
    "| topic | STRING | While the Kafka service hosts multiple topics, only those records from the **`clickstream`** topic are included here |\n",
    "| partition | INTEGER | Our current Kafka implementation uses only 2 partitions (0 and 1) |\n",
    "| offset | LONG | This is a unique value, monotonically increasing for each partition |\n",
    "| timestamp | LONG | This timestamp is recorded as milliseconds since epoch, and represents the time at which the producer appends a record to a partition |"
   ]
  },
  {
   "cell_type": "markdown",
   "metadata": {
    "application/vnd.databricks.v1+cell": {
     "cellMetadata": {},
     "inputWidgets": {},
     "nuid": "9427d491-6375-487e-96fe-65fc302d429b",
     "showTitle": false,
     "title": ""
    }
   },
   "source": [
    "\n",
    "\n",
    "Note that our source directory contains many JSON files."
   ]
  },
  {
   "cell_type": "code",
   "execution_count": 0,
   "metadata": {
    "application/vnd.databricks.v1+cell": {
     "cellMetadata": {
      "byteLimit": 2048000,
      "rowLimit": 10000
     },
     "inputWidgets": {},
     "nuid": "3ed59c57-556e-4b19-b3a3-aeaad8415665",
     "showTitle": false,
     "title": ""
    }
   },
   "outputs": [],
   "source": [
    "%python\n",
    "print(DA.paths.kafka_events)\n",
    "\n",
    "files = dbutils.fs.ls(DA.paths.kafka_events)\n",
    "display(files)"
   ]
  },
  {
   "cell_type": "markdown",
   "metadata": {
    "application/vnd.databricks.v1+cell": {
     "cellMetadata": {},
     "inputWidgets": {},
     "nuid": "c3ce6e5d-db73-464e-821c-604a766805c9",
     "showTitle": false,
     "title": ""
    }
   },
   "source": [
    "\n",
    "\n",
    "Here, we'll be using relative file paths to data that's been written to the DBFS root. \n",
    "\n",
    "Most workflows will require users to access data from external cloud storage locations. \n",
    "\n",
    "In most companies, a workspace administrator will be responsible for configuring access to these storage locations.\n",
    "\n",
    "Instructions for configuring and accessing these locations can be found in the cloud-vendor specific self-paced courses titled \"Cloud Architecture & Systems Integrations\"."
   ]
  },
  {
   "cell_type": "markdown",
   "metadata": {
    "application/vnd.databricks.v1+cell": {
     "cellMetadata": {},
     "inputWidgets": {},
     "nuid": "0ef9cda9-b0d3-454d-9762-9673a8dc11c9",
     "showTitle": false,
     "title": ""
    }
   },
   "source": [
    "\n",
    "\n",
    "## Query a Single File\n",
    "\n",
    "To query the data contained in a single file, execute the query with the following pattern:\n",
    "\n",
    "<strong><code>SELECT * FROM file_format.&#x60;/path/to/file&#x60;</code></strong>\n",
    "\n",
    "Make special note of the use of back-ticks (not single quotes) around the path."
   ]
  },
  {
   "cell_type": "code",
   "execution_count": 0,
   "metadata": {
    "application/vnd.databricks.v1+cell": {
     "cellMetadata": {
      "byteLimit": 2048000,
      "rowLimit": 10000
     },
     "inputWidgets": {},
     "nuid": "39b3e222-c865-490a-86e3-bf8ee7944bca",
     "showTitle": false,
     "title": ""
    }
   },
   "outputs": [],
   "source": [
    "SELECT * FROM json.`${DA.paths.kafka_events}/001.json`"
   ]
  },
  {
   "cell_type": "markdown",
   "metadata": {
    "application/vnd.databricks.v1+cell": {
     "cellMetadata": {},
     "inputWidgets": {},
     "nuid": "1c233cbe-9e92-40d3-930a-ab09307df2d6",
     "showTitle": false,
     "title": ""
    }
   },
   "source": [
    "\n",
    "\n",
    "Note that our preview displays all 321 rows of our source file."
   ]
  },
  {
   "cell_type": "markdown",
   "metadata": {
    "application/vnd.databricks.v1+cell": {
     "cellMetadata": {},
     "inputWidgets": {},
     "nuid": "05606084-e5f6-46f3-b9b5-0b64225317bb",
     "showTitle": false,
     "title": ""
    }
   },
   "source": [
    "\n",
    "\n",
    "## Query a Directory of Files\n",
    "\n",
    "Assuming all of the files in a directory have the same format and schema, all files can be queried simultaneously by specifying the directory path rather than an individual file."
   ]
  },
  {
   "cell_type": "code",
   "execution_count": 0,
   "metadata": {
    "application/vnd.databricks.v1+cell": {
     "cellMetadata": {
      "byteLimit": 2048000,
      "rowLimit": 10000
     },
     "inputWidgets": {},
     "nuid": "9f1f18f0-c36f-4e72-b343-8ce65bb8e39a",
     "showTitle": false,
     "title": ""
    }
   },
   "outputs": [],
   "source": [
    "SELECT * FROM json.`${DA.paths.kafka_events}`"
   ]
  },
  {
   "cell_type": "markdown",
   "metadata": {
    "application/vnd.databricks.v1+cell": {
     "cellMetadata": {},
     "inputWidgets": {},
     "nuid": "7f423e85-4526-4ab0-af46-da101a96dfa1",
     "showTitle": false,
     "title": ""
    }
   },
   "source": [
    "\n",
    "\n",
    "By default, this query will only show the first  10,000 records or 2 MB, whichever is less."
   ]
  },
  {
   "cell_type": "markdown",
   "metadata": {
    "application/vnd.databricks.v1+cell": {
     "cellMetadata": {},
     "inputWidgets": {},
     "nuid": "dc2d082a-3193-41d4-88f6-a6f6a9e4e6ca",
     "showTitle": false,
     "title": ""
    }
   },
   "source": [
    "\n",
    "\n",
    "## Create References to Files\n",
    "This ability to directly query files and directories means that additional Spark logic can be chained to queries against files.\n",
    "\n",
    "When we create a view from a query against a path, we can reference this view in later queries."
   ]
  },
  {
   "cell_type": "code",
   "execution_count": 0,
   "metadata": {
    "application/vnd.databricks.v1+cell": {
     "cellMetadata": {
      "byteLimit": 2048000,
      "rowLimit": 10000
     },
     "inputWidgets": {},
     "nuid": "cb9442ef-5ad4-4c67-8ca2-503db9547ff0",
     "showTitle": false,
     "title": ""
    }
   },
   "outputs": [],
   "source": [
    "CREATE OR REPLACE VIEW event_view\n",
    "AS SELECT * FROM json.`${DA.paths.kafka_events}`"
   ]
  },
  {
   "cell_type": "markdown",
   "metadata": {
    "application/vnd.databricks.v1+cell": {
     "cellMetadata": {},
     "inputWidgets": {},
     "nuid": "5d2498e3-cbcc-42b7-8a8f-3d07f094c04f",
     "showTitle": false,
     "title": ""
    }
   },
   "source": [
    "\n",
    "As long as a user has permission to access the view and the underlying storage location, that user will be able to use this view definition to query the underlying data. This applies to different users in the workspace, different notebooks, and different clusters."
   ]
  },
  {
   "cell_type": "code",
   "execution_count": 0,
   "metadata": {
    "application/vnd.databricks.v1+cell": {
     "cellMetadata": {},
     "inputWidgets": {},
     "nuid": "925e5273-5986-4f7b-9c34-ad4b4a42c4c8",
     "showTitle": false,
     "title": ""
    }
   },
   "outputs": [],
   "source": [
    "SELECT * FROM event_view"
   ]
  },
  {
   "cell_type": "markdown",
   "metadata": {
    "application/vnd.databricks.v1+cell": {
     "cellMetadata": {},
     "inputWidgets": {},
     "nuid": "672ee248-e9d4-440c-8e97-bef1375f9e71",
     "showTitle": false,
     "title": ""
    }
   },
   "source": [
    "## Create Temporary References to Files\n",
    "\n",
    "Temporary views similarly alias queries to a name that's easier to reference in later queries."
   ]
  },
  {
   "cell_type": "code",
   "execution_count": 0,
   "metadata": {
    "application/vnd.databricks.v1+cell": {
     "cellMetadata": {},
     "inputWidgets": {},
     "nuid": "2dca7cd2-ef64-47af-9207-0e3af4db9c47",
     "showTitle": false,
     "title": ""
    }
   },
   "outputs": [],
   "source": [
    "CREATE OR REPLACE TEMP VIEW events_temp_view\n",
    "AS SELECT * FROM json.`${DA.paths.kafka_events}`"
   ]
  },
  {
   "cell_type": "markdown",
   "metadata": {
    "application/vnd.databricks.v1+cell": {
     "cellMetadata": {},
     "inputWidgets": {},
     "nuid": "4f773c47-f6ac-4546-b6a7-3e7c7020a083",
     "showTitle": false,
     "title": ""
    }
   },
   "source": [
    "\n",
    "Temporary views exists only for the current SparkSession. On Databricks, this means they are isolated to the current notebook, job, or DBSQL query."
   ]
  },
  {
   "cell_type": "code",
   "execution_count": 0,
   "metadata": {
    "application/vnd.databricks.v1+cell": {
     "cellMetadata": {},
     "inputWidgets": {},
     "nuid": "9511cc30-f405-47cf-aa1d-03d9fa57f4b3",
     "showTitle": false,
     "title": ""
    }
   },
   "outputs": [],
   "source": [
    "SELECT * FROM events_temp_view"
   ]
  },
  {
   "cell_type": "markdown",
   "metadata": {
    "application/vnd.databricks.v1+cell": {
     "cellMetadata": {},
     "inputWidgets": {},
     "nuid": "e5738494-79c3-4914-b9a7-d3e27a5a470d",
     "showTitle": false,
     "title": ""
    }
   },
   "source": [
    "## Apply CTEs for Reference within a Query \n",
    "Common table expressions (CTEs) are perfect when you want a short-lived, human-readable reference to the results of a query."
   ]
  },
  {
   "cell_type": "code",
   "execution_count": 0,
   "metadata": {
    "application/vnd.databricks.v1+cell": {
     "cellMetadata": {},
     "inputWidgets": {},
     "nuid": "11e29096-99d6-4faf-a96c-66c74aa4e7c9",
     "showTitle": false,
     "title": ""
    }
   },
   "outputs": [],
   "source": [
    "WITH cte_json\n",
    "AS (SELECT * FROM json.`${DA.paths.kafka_events}`)\n",
    "SELECT * FROM cte_json"
   ]
  },
  {
   "cell_type": "markdown",
   "metadata": {
    "application/vnd.databricks.v1+cell": {
     "cellMetadata": {},
     "inputWidgets": {},
     "nuid": "0f99eef9-7b0b-4de7-9a62-9349850a5765",
     "showTitle": false,
     "title": ""
    }
   },
   "source": [
    "CTEs only alias the results of a query while that query is being planned and executed.\n",
    "\n",
    "As such, **the following cell with throw an error when executed**."
   ]
  },
  {
   "cell_type": "code",
   "execution_count": 0,
   "metadata": {
    "application/vnd.databricks.v1+cell": {
     "cellMetadata": {},
     "inputWidgets": {},
     "nuid": "41e0f933-c15a-486d-a305-afb4225e5067",
     "showTitle": false,
     "title": ""
    }
   },
   "outputs": [],
   "source": [
    "-- SELECT COUNT(*) FROM cte_json"
   ]
  },
  {
   "cell_type": "markdown",
   "metadata": {
    "application/vnd.databricks.v1+cell": {
     "cellMetadata": {},
     "inputWidgets": {},
     "nuid": "acfda02e-1ed9-404a-9880-5ab0a8efb381",
     "showTitle": false,
     "title": ""
    }
   },
   "source": [
    "\n",
    "\n",
    "## Extract Text Files as Raw Strings\n",
    "\n",
    "When working with text-based files (which include JSON, CSV, TSV, and TXT formats), you can use the **`text`** format to load each line of the file as a row with one string column named **`value`**. This can be useful when data sources are prone to corruption and custom text parsing functions will be used to extract values from text fields."
   ]
  },
  {
   "cell_type": "code",
   "execution_count": 0,
   "metadata": {
    "application/vnd.databricks.v1+cell": {
     "cellMetadata": {},
     "inputWidgets": {},
     "nuid": "ae97b55c-5fcf-4710-b44f-bc35c50d6305",
     "showTitle": false,
     "title": ""
    }
   },
   "outputs": [],
   "source": [
    "SELECT * FROM text.`${DA.paths.kafka_events}`"
   ]
  },
  {
   "cell_type": "markdown",
   "metadata": {
    "application/vnd.databricks.v1+cell": {
     "cellMetadata": {},
     "inputWidgets": {},
     "nuid": "823718bc-51cc-4f64-bff4-b753deb2b3d3",
     "showTitle": false,
     "title": ""
    }
   },
   "source": [
    "\n",
    "\n",
    "## Extract the Raw Bytes and Metadata of a File\n",
    "\n",
    "Some workflows may require working with entire files, such as when dealing with images or unstructured data. Using **`binaryFile`** to query a directory will provide file metadata alongside the binary representation of the file contents.\n",
    "\n",
    "Specifically, the fields created will indicate the **`path`**, **`modificationTime`**, **`length`**, and **`content`**."
   ]
  },
  {
   "cell_type": "code",
   "execution_count": 0,
   "metadata": {
    "application/vnd.databricks.v1+cell": {
     "cellMetadata": {},
     "inputWidgets": {},
     "nuid": "48207b8a-fb20-4a81-88d2-0a0c3ae00cdd",
     "showTitle": false,
     "title": ""
    }
   },
   "outputs": [],
   "source": [
    "SELECT * FROM binaryFile.`${DA.paths.kafka_events}`"
   ]
  },
  {
   "cell_type": "markdown",
   "metadata": {
    "application/vnd.databricks.v1+cell": {
     "cellMetadata": {},
     "inputWidgets": {},
     "nuid": "aa142e1c-4cfc-4353-a811-bfbd9b127268",
     "showTitle": false,
     "title": ""
    }
   },
   "source": [
    "\n",
    " \n",
    "Run the following cell to delete the tables and files associated with this lesson."
   ]
  },
  {
   "cell_type": "code",
   "execution_count": 0,
   "metadata": {
    "application/vnd.databricks.v1+cell": {
     "cellMetadata": {},
     "inputWidgets": {},
     "nuid": "55a1b78c-6623-457e-a921-e74a1b77a4ee",
     "showTitle": false,
     "title": ""
    }
   },
   "outputs": [],
   "source": [
    "%python \n",
    "DA.cleanup()"
   ]
  },
  {
   "cell_type": "markdown",
   "metadata": {
    "application/vnd.databricks.v1+cell": {
     "cellMetadata": {},
     "inputWidgets": {},
     "nuid": "c519dd49-18f5-459b-a950-b9227e454b16",
     "showTitle": false,
     "title": ""
    }
   },
   "source": [
    "\n",
    "&copy; 2024 Databricks, Inc. All rights reserved.<br/>\n",
    "Apache, Apache Spark, Spark and the Spark logo are trademarks of the \n",
    "<a href=\"https://www.apache.org/\">Apache Software Foundation</a>.<br/>\n",
    "<br/><a href=\"https://databricks.com/privacy-policy\">Privacy Policy</a> | \n",
    "<a href=\"https://databricks.com/terms-of-use\">Terms of Use</a> | \n",
    "<a href=\"https://help.databricks.com/\">Support</a>"
   ]
  }
 ],
 "metadata": {
  "application/vnd.databricks.v1+notebook": {
   "dashboards": [],
   "environmentMetadata": {
    "base_environment": "",
    "client": "1"
   },
   "language": "sql",
   "notebookMetadata": {
    "pythonIndentUnit": 4
   },
   "notebookName": "DE 2.1 - Querying Files Directly",
   "widgets": {}
  }
 },
 "nbformat": 4,
 "nbformat_minor": 0
}
