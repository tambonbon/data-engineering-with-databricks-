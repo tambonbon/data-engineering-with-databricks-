{
 "cells": [
  {
   "cell_type": "code",
   "execution_count": 0,
   "metadata": {
    "application/vnd.databricks.v1+cell": {
     "cellMetadata": {},
     "inputWidgets": {},
     "nuid": "af73eea4-ac65-4e6c-a9f5-a50d4ad35054",
     "showTitle": false,
     "title": ""
    }
   },
   "outputs": [],
   "source": [
    "%run ../../Includes/_common"
   ]
  },
  {
   "cell_type": "code",
   "execution_count": 0,
   "metadata": {
    "application/vnd.databricks.v1+cell": {
     "cellMetadata": {},
     "inputWidgets": {},
     "nuid": "f5a66ef7-7f64-45ad-9092-666e454e8589",
     "showTitle": false,
     "title": ""
    }
   },
   "outputs": [],
   "source": [
    "lesson_config = LessonConfig(name = None,\n",
    "                             create_schema = True,\n",
    "                             create_catalog = False,\n",
    "                             requires_uc = False,\n",
    "                             installing_datasets = True,\n",
    "                             enable_streaming_support = False,\n",
    "                             enable_ml_support = False)\n",
    "\n",
    "DA = DBAcademyHelper(course_config=course_config,\n",
    "                     lesson_config=lesson_config)\n",
    "DA.reset_lesson()\n",
    "DA.init()\n",
    "\n",
    "DA.paths.kafka_events = f\"{DA.paths.datasets}/ecommerce/raw/events-kafka\"\n",
    "\n",
    "DA.conclude_setup()                      # Conclude setup by advertising environmental changes"
   ]
  }
 ],
 "metadata": {
  "application/vnd.databricks.v1+notebook": {
   "dashboards": [],
   "environmentMetadata": {
    "base_environment": "",
    "client": "1"
   },
   "language": "python",
   "notebookMetadata": {
    "pythonIndentUnit": 4
   },
   "notebookName": "Classroom-Setup-02.1",
   "widgets": {}
  }
 },
 "nbformat": 4,
 "nbformat_minor": 0
}
