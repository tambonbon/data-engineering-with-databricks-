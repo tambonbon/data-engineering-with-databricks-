{
 "cells": [
  {
   "cell_type": "code",
   "execution_count": 0,
   "metadata": {
    "application/vnd.databricks.v1+cell": {
     "cellMetadata": {},
     "inputWidgets": {},
     "nuid": "19041d94-0b01-4b0c-a7e1-63b81d0df428",
     "showTitle": false,
     "title": ""
    }
   },
   "outputs": [],
   "source": [
    "%run ../../Includes/_common"
   ]
  },
  {
   "cell_type": "code",
   "execution_count": 0,
   "metadata": {
    "application/vnd.databricks.v1+cell": {
     "cellMetadata": {},
     "inputWidgets": {},
     "nuid": "c0084ab3-2395-49e6-9955-1a20c217172c",
     "showTitle": false,
     "title": ""
    }
   },
   "outputs": [],
   "source": [
    "lesson_config = LessonConfig(name = None,\n",
    "                             create_schema = True,\n",
    "                             create_catalog = False,\n",
    "                             requires_uc = False,\n",
    "                             installing_datasets = True,\n",
    "                             enable_streaming_support = False,\n",
    "                             enable_ml_support = False)\n",
    "\n",
    "DA = DBAcademyHelper(course_config=course_config,\n",
    "                     lesson_config=lesson_config)\n",
    "DA.reset_lesson()\n",
    "DA.init()"
   ]
  },
  {
   "cell_type": "code",
   "execution_count": 0,
   "metadata": {
    "application/vnd.databricks.v1+cell": {
     "cellMetadata": {},
     "inputWidgets": {},
     "nuid": "36d72116-09c1-4897-9c01-f69d7d3f96b2",
     "showTitle": false,
     "title": ""
    }
   },
   "outputs": [],
   "source": [
    "import os, time, shutil, sqlite3\n",
    "import pandas as pd\n",
    "\n",
    "# Create a user-specific copy of the sales-csv.\n",
    "DA.paths.sales_csv = f\"{DA.paths.working_dir}/sales-csv\"\n",
    "dbutils.fs.cp(f\"{DA.paths.datasets}/ecommerce/raw/sales-csv\", DA.paths.sales_csv, True)\n",
    "\n",
    "start = int(time.time())\n",
    "print(f\"Creating the users table\", end=\"...\")\n",
    "\n",
    "DA.paths.ecommerce_db = f\"{DA.paths.working_dir}/ecommerce.db\"\n",
    "datasource_path = f\"{DA.paths.datasets}/ecommerce/raw/users-historical\"\n",
    "\n",
    "# Create the temp directory and declare the path to the temp db file.\n",
    "db_temp_dir = f\"/tmp/{DA.username}\"\n",
    "dbutils.fs.mkdirs(f\"file:{db_temp_dir}\")\n",
    "db_temp_path = f\"{db_temp_dir}/ecommerce.db\"\n",
    "\n",
    "# Spark => JDBC cannot create the database reliably but Pandas can.\n",
    "conn = sqlite3.connect(db_temp_path) \n",
    "c = conn.cursor()\n",
    "c.execute('CREATE TABLE IF NOT EXISTS users (user_id string, user_first_touch_timestamp decimal(20,0), email string)')\n",
    "conn.commit()\n",
    "df = pd.read_parquet(path = datasource_path.replace(\"dbfs:/\", '/dbfs/'))\n",
    "df.to_sql('users', conn, if_exists='replace', index = False)\n",
    "\n",
    "# Move the temp db to the final location\n",
    "dbutils.fs.mv(f\"file:{db_temp_path}\", DA.paths.ecommerce_db)\n",
    "DA.paths.ecommerce_db = DA.paths.ecommerce_db.replace(\"dbfs:/\", \"/dbfs/\")\n",
    "\n",
    "# Report on the setup time.\n",
    "total = spark.read.parquet(datasource_path).count()\n",
    "print(f\"({int(time.time())-start} seconds / {total:,} records)\")"
   ]
  },
  {
   "cell_type": "code",
   "execution_count": 0,
   "metadata": {
    "application/vnd.databricks.v1+cell": {
     "cellMetadata": {},
     "inputWidgets": {},
     "nuid": "75244cbf-8124-4aae-8f75-a8e3711c5303",
     "showTitle": false,
     "title": ""
    }
   },
   "outputs": [],
   "source": [
    "DA.conclude_setup()"
   ]
  }
 ],
 "metadata": {
  "application/vnd.databricks.v1+notebook": {
   "dashboards": [],
   "environmentMetadata": {
    "base_environment": "",
    "client": "1"
   },
   "language": "python",
   "notebookMetadata": {
    "pythonIndentUnit": 4
   },
   "notebookName": "Classroom-Setup-02.2",
   "widgets": {}
  }
 },
 "nbformat": 4,
 "nbformat_minor": 0
}
