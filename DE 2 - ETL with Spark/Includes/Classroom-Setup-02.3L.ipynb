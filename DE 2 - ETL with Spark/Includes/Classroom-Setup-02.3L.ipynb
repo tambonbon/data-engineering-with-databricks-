{
 "cells": [
  {
   "cell_type": "code",
   "execution_count": 0,
   "metadata": {
    "application/vnd.databricks.v1+cell": {
     "cellMetadata": {},
     "inputWidgets": {},
     "nuid": "12234505-4b05-4831-8cd2-22525d20b1fd",
     "showTitle": false,
     "title": ""
    }
   },
   "outputs": [],
   "source": [
    "%run ../../Includes/_common"
   ]
  },
  {
   "cell_type": "code",
   "execution_count": 0,
   "metadata": {
    "application/vnd.databricks.v1+cell": {
     "cellMetadata": {},
     "inputWidgets": {},
     "nuid": "f0b3c9de-6df6-4137-9cbf-01561e6e0341",
     "showTitle": false,
     "title": ""
    }
   },
   "outputs": [],
   "source": [
    "lesson_config = LessonConfig(name = None,\n",
    "                             create_schema = True,\n",
    "                             create_catalog = False,\n",
    "                             requires_uc = False,\n",
    "                             installing_datasets = True,\n",
    "                             enable_streaming_support = False,\n",
    "                             enable_ml_support = False)\n",
    "\n",
    "DA = DBAcademyHelper(course_config=course_config,\n",
    "                     lesson_config=lesson_config)\n",
    "DA.reset_lesson()\n",
    "DA.init()\n",
    "\n",
    "DA.paths.kafka_events = f\"{DA.paths.datasets}/ecommerce/raw/events-kafka\"\n",
    "\n",
    "DA.conclude_setup()"
   ]
  }
 ],
 "metadata": {
  "application/vnd.databricks.v1+notebook": {
   "dashboards": [],
   "environmentMetadata": {
    "base_environment": "",
    "client": "1"
   },
   "language": "python",
   "notebookMetadata": {
    "pythonIndentUnit": 4
   },
   "notebookName": "Classroom-Setup-02.3L",
   "widgets": {}
  }
 },
 "nbformat": 4,
 "nbformat_minor": 0
}
