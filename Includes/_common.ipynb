{
 "cells": [
  {
   "cell_type": "code",
   "execution_count": 0,
   "metadata": {
    "application/vnd.databricks.v1+cell": {
     "cellMetadata": {},
     "inputWidgets": {},
     "nuid": "93edd64e-5ed1-4fd5-899e-c36481588c16",
     "showTitle": false,
     "title": ""
    }
   },
   "outputs": [],
   "source": [
    "# INSTALL_LIBRARIES\n",
    "version = \"v3.0.70\"\n",
    "if not version.startswith(\"v\"): library_url = f\"git+https://github.com/databricks-academy/dbacademy@{version}\"\n",
    "else: library_url = f\"https://github.com/databricks-academy/dbacademy/releases/download/{version}/dbacademy-{version[1:]}-py3-none-any.whl\"\n",
    "pip_command = f\"install --quiet --disable-pip-version-check {library_url}\""
   ]
  },
  {
   "cell_type": "code",
   "execution_count": 0,
   "metadata": {
    "application/vnd.databricks.v1+cell": {
     "cellMetadata": {},
     "inputWidgets": {},
     "nuid": "e2753a7d-de5a-47f8-86e3-c4b6851fa07c",
     "showTitle": false,
     "title": ""
    }
   },
   "outputs": [],
   "source": [
    "%pip $pip_command"
   ]
  },
  {
   "cell_type": "code",
   "execution_count": 0,
   "metadata": {
    "application/vnd.databricks.v1+cell": {
     "cellMetadata": {},
     "inputWidgets": {},
     "nuid": "ea4a9ba9-983f-4cf9-b09b-34947cddf315",
     "showTitle": false,
     "title": ""
    }
   },
   "outputs": [],
   "source": [
    "%run ./_dataset_index"
   ]
  },
  {
   "cell_type": "code",
   "execution_count": 0,
   "metadata": {
    "application/vnd.databricks.v1+cell": {
     "cellMetadata": {},
     "inputWidgets": {},
     "nuid": "6585826a-3fb8-4595-9c65-96fef80d250d",
     "showTitle": false,
     "title": ""
    }
   },
   "outputs": [],
   "source": [
    "import pyspark.sql.functions as F\n",
    "from dbacademy import dbgems\n",
    "from dbacademy.dbhelper import DBAcademyHelper, Paths, CourseConfig, LessonConfig\n",
    "\n",
    "# The following attributes are externalized to make them easy\n",
    "# for content developers to update with every new course.\n",
    "\n",
    "course_config = CourseConfig(course_code = \"dewd\",\n",
    "                             course_name = \"data-engineering-with-databricks\",\n",
    "                             data_source_name = \"data-engineer-learning-path\",\n",
    "                             data_source_version = \"v04\",\n",
    "                             install_min_time = \"2 min\",\n",
    "                             install_max_time = \"10 min\",\n",
    "                             remote_files = remote_files,\n",
    "                            #  supported_dbrs = [\"11.3.x-scala2.12\", \"11.3.x-photon-scala2.12\", \"11.3.x-cpu-ml-scala2.12\"],\n",
    "                             supported_dbrs = [\"13.3.x-scala2.12\", \"13.3.x-photon-scala2.12\", \"13.3.x-cpu-ml-scala2.12\"],\n",
    "                             expected_dbrs = \"{{supported_dbrs}}\")\n",
    "\n",
    "# Defined here for the majority of lessons, \n",
    "# and later modified on a per-lesson basis.\n",
    "lesson_config = LessonConfig(name = None,\n",
    "                             create_schema = True,\n",
    "                             create_catalog = False,\n",
    "                             requires_uc = False,\n",
    "                             installing_datasets = True,\n",
    "                             enable_streaming_support = False,\n",
    "                             enable_ml_support = False)\n",
    "\n",
    "@DBAcademyHelper.monkey_patch\n",
    "def clone_source_table(self, table_name, source_path=None, source_name=None):\n",
    "    start = dbgems.clock_start()\n",
    "\n",
    "    if source_path is None: source_path = self.paths.datasets\n",
    "    if source_name is None: source_name = table_name\n",
    "\n",
    "    print(f\"Cloning the \\\"{table_name}\\\" table from \\\"{source_path}/{source_name}\\\".\", end=\"...\")\n",
    "    \n",
    "    spark.sql(f\"\"\"\n",
    "        CREATE OR REPLACE TABLE {table_name}\n",
    "        SHALLOW CLONE delta.`{source_path}/{source_name}`\n",
    "        \"\"\")\n",
    "    \n",
    "    print(dbgems.clock_stopped(start))\n",
    "    \n",
    "\n",
    "@DBAcademyHelper.monkey_patch\n",
    "def display_config_values(self, config_values):\n",
    "    \"\"\"\n",
    "    Displays list of key-value pairs as rows of HTML text and textboxes\n",
    "    :param config_values: list of (key, value) tuples\n",
    "    \"\"\"\n",
    "    html = \"\"\"<table style=\"width:100%\">\"\"\"\n",
    "    for name, value in config_values:\n",
    "        html += f\"\"\"\n",
    "        <tr>\n",
    "            <td style=\"white-space:nowrap; width:1em\">{name}:</td>\n",
    "            <td><input type=\"text\" value=\"{value}\" style=\"width: 100%\"></td></tr>\"\"\"\n",
    "    html += \"</table>\"\n",
    "    displayHTML(html)        \n",
    "\n",
    "\n",
    "ANALYSTS_ROLE_NAME = \"analysts\"\n",
    "\n",
    "None"
   ]
  }
 ],
 "metadata": {
  "application/vnd.databricks.v1+notebook": {
   "dashboards": [],
   "environmentMetadata": {
    "base_environment": "",
    "client": "1"
   },
   "language": "python",
   "notebookMetadata": {
    "pythonIndentUnit": 4
   },
   "notebookName": "_common",
   "widgets": {}
  }
 },
 "nbformat": 4,
 "nbformat_minor": 0
}
